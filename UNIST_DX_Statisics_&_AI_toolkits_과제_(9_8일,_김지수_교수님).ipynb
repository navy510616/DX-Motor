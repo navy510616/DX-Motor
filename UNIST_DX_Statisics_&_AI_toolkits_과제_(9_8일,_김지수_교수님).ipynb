{
  "nbformat": 4,
  "nbformat_minor": 0,
  "metadata": {
    "colab": {
      "name": "UNIST DX - Statisics & AI toolkits 과제 (9/8일, 김지수 교수님)",
      "provenance": [],
      "collapsed_sections": [],
      "include_colab_link": true
    },
    "kernelspec": {
      "display_name": "Python 3",
      "name": "python3"
    }
  },
  "cells": [
    {
      "cell_type": "markdown",
      "metadata": {
        "id": "view-in-github",
        "colab_type": "text"
      },
      "source": [
        "<a href=\"https://colab.research.google.com/github/navy510616/DX-Motor/blob/main/UNIST_DX_Statisics_%26_AI_toolkits_%EA%B3%BC%EC%A0%9C_(9_8%EC%9D%BC%2C_%EA%B9%80%EC%A7%80%EC%88%98_%EA%B5%90%EC%88%98%EB%8B%98).ipynb\" target=\"_parent\"><img src=\"https://colab.research.google.com/assets/colab-badge.svg\" alt=\"Open In Colab\"/></a>"
      ]
    },
    {
      "cell_type": "markdown",
      "metadata": {
        "id": "B0wuv0vumcoF"
      },
      "source": [
        "# **UNIST DX - Statistics & AI toolkits 과제 (9/8일, 김지수 교수님)**"
      ]
    },
    {
      "cell_type": "markdown",
      "metadata": {
        "id": "vywZw7KPtNZx"
      },
      "source": [
        "# **\"Attendance\"라는 이름으로 학생의 ID, 수업의 날짜, Zoom에 머무른 시간(분단위)을 칼럼으로 가지는 새로운 pandas DataFrame을 만드시오.**"
      ]
    },
    {
      "cell_type": "code",
      "metadata": {
        "id": "kGW-KEeIkJok"
      },
      "source": [
        "import pandas as pd\n",
        "import numpy as np\n",
        "import datetime\n",
        "from datetime import date\n",
        "import matplotlib.pyplot as plt\n",
        "import seaborn as sns"
      ],
      "execution_count": 389,
      "outputs": []
    },
    {
      "cell_type": "markdown",
      "metadata": {
        "id": "lYwTUlXu3IVo"
      },
      "source": [
        "(a)-2 학생별 온라인 접속 시간(수업 시간) 계산"
      ]
    },
    {
      "cell_type": "code",
      "metadata": {
        "colab": {
          "base_uri": "https://localhost:8080/",
          "height": 422
        },
        "id": "4kKAOQbT2wHG",
        "outputId": "d11a2be0-bd57-4a9e-cf8d-9eb58d6608e4"
      },
      "source": [
        "#### 깃허브에서 데이터 불러오기\n",
        "df = pd.read_csv('https://github.com/navy510616/DX-Motor/raw/main/class.csv')\n",
        "\n",
        "#### 데이터 변환 (Csv파일의 날짜데이터는 문자열이라서 접속시간 계산을 위해 datetime으로 변환)\n",
        "id = []\n",
        "date = []\n",
        "J_time = []\n",
        "L_time = []\n",
        "for i in range(len(df)):\n",
        "  ID = df['userID'][i][4:]\n",
        "  id.append(int(ID))\n",
        "  JT = df['Join Time'][i]\n",
        "  date.append(JT[:10])\n",
        "  jt = datetime.datetime.strptime(JT, '%Y-%m-%d %H:%M')\n",
        "  J_time.append(jt)\n",
        "  LT = df['Leave Time'][i]\n",
        "  lt = datetime.datetime.strptime(LT, '%Y-%m-%d %H:%M')\n",
        "  L_time.append(lt)\n",
        "\n",
        "#### 총 머무른 시간 계산\n",
        "df['ID']=id\n",
        "df['date']=date\n",
        "df['J_time']=J_time    \n",
        "df['L_time']=L_time\n",
        "df1 = df.drop(['userID','Join Time','Leave Time'], axis=1) #불필요 데이터 삭제\n",
        "\n",
        "begin_h = 16             #수업 시작시간 16:00pm (H)\n",
        "end_h = 17               #수업 종료시간 17:15pm (H)\n",
        "end_m = 15               #수업 종료시간 17:15pm (M)\n",
        "ontime = []\n",
        "for i in range(len(df1)):\n",
        "  a = df['J_time'][i]\n",
        "  b = (a.hour-begin_h)*3600 + a.minute*60 + a.second\n",
        "  c = df['L_time'][i]\n",
        "  d = (c.hour-begin_h)*3600 + c.minute*60 + c.second\n",
        "\n",
        "  if b <= 0:\n",
        "    b = 0\n",
        "  elif b >= (end_h*3600+end_m*60):\n",
        "    b = (end_h*3600+end_m*60)\n",
        "\n",
        "  if d <= 0:\n",
        "    d = 0\n",
        "  elif d >= ((end_h*3600+end_m*60)-(begin_h*3600)):\n",
        "    d = ((end_h*3600+end_m*60)-(begin_h*3600))\n",
        "\n",
        "  on = (d - b)/60\n",
        "  if on < 0:\n",
        "    on = 0\n",
        "  ontime.append(int(on))\n",
        "\n",
        "df1['ontime'] = ontime\n",
        "df2 = df1.drop(['J_time','L_time'],axis=1)   #계산 완료 후 컬럼 삭제\n",
        "df2"
      ],
      "execution_count": 392,
      "outputs": [
        {
          "output_type": "execute_result",
          "data": {
            "text/html": [
              "<div>\n",
              "<style scoped>\n",
              "    .dataframe tbody tr th:only-of-type {\n",
              "        vertical-align: middle;\n",
              "    }\n",
              "\n",
              "    .dataframe tbody tr th {\n",
              "        vertical-align: top;\n",
              "    }\n",
              "\n",
              "    .dataframe thead th {\n",
              "        text-align: right;\n",
              "    }\n",
              "</style>\n",
              "<table border=\"1\" class=\"dataframe\">\n",
              "  <thead>\n",
              "    <tr style=\"text-align: right;\">\n",
              "      <th></th>\n",
              "      <th>ID</th>\n",
              "      <th>date</th>\n",
              "      <th>ontime</th>\n",
              "    </tr>\n",
              "  </thead>\n",
              "  <tbody>\n",
              "    <tr>\n",
              "      <th>0</th>\n",
              "      <td>54</td>\n",
              "      <td>2020-09-08</td>\n",
              "      <td>0</td>\n",
              "    </tr>\n",
              "    <tr>\n",
              "      <th>1</th>\n",
              "      <td>54</td>\n",
              "      <td>2020-09-08</td>\n",
              "      <td>0</td>\n",
              "    </tr>\n",
              "    <tr>\n",
              "      <th>2</th>\n",
              "      <td>52</td>\n",
              "      <td>2020-09-08</td>\n",
              "      <td>75</td>\n",
              "    </tr>\n",
              "    <tr>\n",
              "      <th>3</th>\n",
              "      <td>54</td>\n",
              "      <td>2020-09-08</td>\n",
              "      <td>0</td>\n",
              "    </tr>\n",
              "    <tr>\n",
              "      <th>4</th>\n",
              "      <td>54</td>\n",
              "      <td>2020-09-08</td>\n",
              "      <td>0</td>\n",
              "    </tr>\n",
              "    <tr>\n",
              "      <th>...</th>\n",
              "      <td>...</td>\n",
              "      <td>...</td>\n",
              "      <td>...</td>\n",
              "    </tr>\n",
              "    <tr>\n",
              "      <th>470</th>\n",
              "      <td>22</td>\n",
              "      <td>2020-10-13</td>\n",
              "      <td>71</td>\n",
              "    </tr>\n",
              "    <tr>\n",
              "      <th>471</th>\n",
              "      <td>10</td>\n",
              "      <td>2020-10-13</td>\n",
              "      <td>70</td>\n",
              "    </tr>\n",
              "    <tr>\n",
              "      <th>472</th>\n",
              "      <td>46</td>\n",
              "      <td>2020-10-13</td>\n",
              "      <td>67</td>\n",
              "    </tr>\n",
              "    <tr>\n",
              "      <th>473</th>\n",
              "      <td>7</td>\n",
              "      <td>2020-10-13</td>\n",
              "      <td>67</td>\n",
              "    </tr>\n",
              "    <tr>\n",
              "      <th>474</th>\n",
              "      <td>40</td>\n",
              "      <td>2020-10-13</td>\n",
              "      <td>12</td>\n",
              "    </tr>\n",
              "  </tbody>\n",
              "</table>\n",
              "<p>475 rows × 3 columns</p>\n",
              "</div>"
            ],
            "text/plain": [
              "     ID        date  ontime\n",
              "0    54  2020-09-08       0\n",
              "1    54  2020-09-08       0\n",
              "2    52  2020-09-08      75\n",
              "3    54  2020-09-08       0\n",
              "4    54  2020-09-08       0\n",
              "..   ..         ...     ...\n",
              "470  22  2020-10-13      71\n",
              "471  10  2020-10-13      70\n",
              "472  46  2020-10-13      67\n",
              "473   7  2020-10-13      67\n",
              "474  40  2020-10-13      12\n",
              "\n",
              "[475 rows x 3 columns]"
            ]
          },
          "metadata": {},
          "execution_count": 392
        }
      ]
    },
    {
      "cell_type": "markdown",
      "metadata": {
        "id": "KRrIDf1X38w0"
      },
      "source": [
        "(a)-1 학생마다 한줄의 날짜로 데이터 합치기\n",
        "(a)-3 결석한 날은 접속시간을 0분으로 기록"
      ]
    },
    {
      "cell_type": "code",
      "metadata": {
        "colab": {
          "base_uri": "https://localhost:8080/",
          "height": 422
        },
        "id": "LsCUIPwDwUrK",
        "outputId": "b09682eb-18d3-46c4-f7d5-38348eb6685c"
      },
      "source": [
        "#### 시작날부터 끝나는날까지 주말 제외한 날짜 계산\n",
        "#### 전체 일정의 DataFrame을 만들어서 기존 DataFrame과 합치기\n",
        "#### 중복 데이터 합기기\n",
        "start_date = '2020-09-08'\n",
        "end_date = '2020-10-13'\n",
        "dates = pd.date_range(start_date, end_date, freq='B')\n",
        "dates_list = dates.strftime(\"%Y-%m-%d\").tolist()\n",
        " \n",
        "userid = 60          # userID 수\n",
        "list_id = []\n",
        "list_date =[]\n",
        "\n",
        "for ud in range(1, userid+1):\n",
        "  for dl in range(len(dates_list)):\n",
        "    list_id.append(ud)\n",
        "    w = dates_list[dl]\n",
        "    list_date.append(w)\n",
        "    dl += 1\n",
        "  ud += 1\n",
        "\n",
        "dt_list = pd.DataFrame({'ID':list_id, 'date':list_date, 'ontime': 0}) #별도 DataFrame\n",
        "df3 = df2.append(dt_list,ignore_index=True)                           #기존 DataFrame과 합치기\n",
        "df4 = df3.groupby(['ID','date'],as_index=False).sum()                 #중복날짜 합치기\n",
        "Attendance = df4\n",
        "Attendance.rename(columns={'ID':'학생ID','date' :'수업날짜','ontime':'Zoom접속시간' }, inplace=True)\n",
        "Attendance"
      ],
      "execution_count": 399,
      "outputs": [
        {
          "output_type": "execute_result",
          "data": {
            "text/html": [
              "<div>\n",
              "<style scoped>\n",
              "    .dataframe tbody tr th:only-of-type {\n",
              "        vertical-align: middle;\n",
              "    }\n",
              "\n",
              "    .dataframe tbody tr th {\n",
              "        vertical-align: top;\n",
              "    }\n",
              "\n",
              "    .dataframe thead th {\n",
              "        text-align: right;\n",
              "    }\n",
              "</style>\n",
              "<table border=\"1\" class=\"dataframe\">\n",
              "  <thead>\n",
              "    <tr style=\"text-align: right;\">\n",
              "      <th></th>\n",
              "      <th>학생ID</th>\n",
              "      <th>수업날짜</th>\n",
              "      <th>Zoom접속시간</th>\n",
              "    </tr>\n",
              "  </thead>\n",
              "  <tbody>\n",
              "    <tr>\n",
              "      <th>0</th>\n",
              "      <td>1</td>\n",
              "      <td>2020-09-08</td>\n",
              "      <td>75</td>\n",
              "    </tr>\n",
              "    <tr>\n",
              "      <th>1</th>\n",
              "      <td>1</td>\n",
              "      <td>2020-09-09</td>\n",
              "      <td>0</td>\n",
              "    </tr>\n",
              "    <tr>\n",
              "      <th>2</th>\n",
              "      <td>1</td>\n",
              "      <td>2020-09-10</td>\n",
              "      <td>0</td>\n",
              "    </tr>\n",
              "    <tr>\n",
              "      <th>3</th>\n",
              "      <td>1</td>\n",
              "      <td>2020-09-11</td>\n",
              "      <td>0</td>\n",
              "    </tr>\n",
              "    <tr>\n",
              "      <th>4</th>\n",
              "      <td>1</td>\n",
              "      <td>2020-09-14</td>\n",
              "      <td>0</td>\n",
              "    </tr>\n",
              "    <tr>\n",
              "      <th>...</th>\n",
              "      <td>...</td>\n",
              "      <td>...</td>\n",
              "      <td>...</td>\n",
              "    </tr>\n",
              "    <tr>\n",
              "      <th>1555</th>\n",
              "      <td>60</td>\n",
              "      <td>2020-10-07</td>\n",
              "      <td>0</td>\n",
              "    </tr>\n",
              "    <tr>\n",
              "      <th>1556</th>\n",
              "      <td>60</td>\n",
              "      <td>2020-10-08</td>\n",
              "      <td>0</td>\n",
              "    </tr>\n",
              "    <tr>\n",
              "      <th>1557</th>\n",
              "      <td>60</td>\n",
              "      <td>2020-10-09</td>\n",
              "      <td>0</td>\n",
              "    </tr>\n",
              "    <tr>\n",
              "      <th>1558</th>\n",
              "      <td>60</td>\n",
              "      <td>2020-10-12</td>\n",
              "      <td>0</td>\n",
              "    </tr>\n",
              "    <tr>\n",
              "      <th>1559</th>\n",
              "      <td>60</td>\n",
              "      <td>2020-10-13</td>\n",
              "      <td>0</td>\n",
              "    </tr>\n",
              "  </tbody>\n",
              "</table>\n",
              "<p>1560 rows × 3 columns</p>\n",
              "</div>"
            ],
            "text/plain": [
              "      학생ID        수업날짜  Zoom접속시간\n",
              "0        1  2020-09-08        75\n",
              "1        1  2020-09-09         0\n",
              "2        1  2020-09-10         0\n",
              "3        1  2020-09-11         0\n",
              "4        1  2020-09-14         0\n",
              "...    ...         ...       ...\n",
              "1555    60  2020-10-07         0\n",
              "1556    60  2020-10-08         0\n",
              "1557    60  2020-10-09         0\n",
              "1558    60  2020-10-12         0\n",
              "1559    60  2020-10-13         0\n",
              "\n",
              "[1560 rows x 3 columns]"
            ]
          },
          "metadata": {},
          "execution_count": 399
        }
      ]
    },
    {
      "cell_type": "markdown",
      "metadata": {
        "id": "FM17tcRfsD68"
      },
      "source": [
        "# **(b) \"Attendance\"에 하나의 칼럼을 추가하시오. 본 칼럼은 학생의 총 머무른 시간이 0분이면 \"Absent\", 0보다 크고 60분 보다 적으면 \"Late/Left early\", 60분 이상이면 \"Present\"라는 값을 가지는 칼럼입니다.**"
      ]
    },
    {
      "cell_type": "code",
      "metadata": {
        "colab": {
          "base_uri": "https://localhost:8080/",
          "height": 422
        },
        "id": "QeG-ZGVZmEQM",
        "outputId": "98d1f98f-c489-420a-f735-f9c9ddf8bbe3"
      },
      "source": [
        "present = []\n",
        "\n",
        "for ab in range(len(Attendance)):\n",
        "  p = Attendance['Zoom접속시간'][ab]\n",
        "  if p == 0:\n",
        "    pr = 'Absent'\n",
        "  elif 0 < p < 60:\n",
        "    pr = 'Late/Left early'\n",
        "  elif 60 <= p:\n",
        "    pr = 'Present'\n",
        "    \n",
        "  present.append(pr)\n",
        "\n",
        "Attendance['present'] = present\n",
        "Attendance"
      ],
      "execution_count": 400,
      "outputs": [
        {
          "output_type": "execute_result",
          "data": {
            "text/html": [
              "<div>\n",
              "<style scoped>\n",
              "    .dataframe tbody tr th:only-of-type {\n",
              "        vertical-align: middle;\n",
              "    }\n",
              "\n",
              "    .dataframe tbody tr th {\n",
              "        vertical-align: top;\n",
              "    }\n",
              "\n",
              "    .dataframe thead th {\n",
              "        text-align: right;\n",
              "    }\n",
              "</style>\n",
              "<table border=\"1\" class=\"dataframe\">\n",
              "  <thead>\n",
              "    <tr style=\"text-align: right;\">\n",
              "      <th></th>\n",
              "      <th>학생ID</th>\n",
              "      <th>수업날짜</th>\n",
              "      <th>Zoom접속시간</th>\n",
              "      <th>present</th>\n",
              "    </tr>\n",
              "  </thead>\n",
              "  <tbody>\n",
              "    <tr>\n",
              "      <th>0</th>\n",
              "      <td>1</td>\n",
              "      <td>2020-09-08</td>\n",
              "      <td>75</td>\n",
              "      <td>Present</td>\n",
              "    </tr>\n",
              "    <tr>\n",
              "      <th>1</th>\n",
              "      <td>1</td>\n",
              "      <td>2020-09-09</td>\n",
              "      <td>0</td>\n",
              "      <td>Absent</td>\n",
              "    </tr>\n",
              "    <tr>\n",
              "      <th>2</th>\n",
              "      <td>1</td>\n",
              "      <td>2020-09-10</td>\n",
              "      <td>0</td>\n",
              "      <td>Absent</td>\n",
              "    </tr>\n",
              "    <tr>\n",
              "      <th>3</th>\n",
              "      <td>1</td>\n",
              "      <td>2020-09-11</td>\n",
              "      <td>0</td>\n",
              "      <td>Absent</td>\n",
              "    </tr>\n",
              "    <tr>\n",
              "      <th>4</th>\n",
              "      <td>1</td>\n",
              "      <td>2020-09-14</td>\n",
              "      <td>0</td>\n",
              "      <td>Absent</td>\n",
              "    </tr>\n",
              "    <tr>\n",
              "      <th>...</th>\n",
              "      <td>...</td>\n",
              "      <td>...</td>\n",
              "      <td>...</td>\n",
              "      <td>...</td>\n",
              "    </tr>\n",
              "    <tr>\n",
              "      <th>1555</th>\n",
              "      <td>60</td>\n",
              "      <td>2020-10-07</td>\n",
              "      <td>0</td>\n",
              "      <td>Absent</td>\n",
              "    </tr>\n",
              "    <tr>\n",
              "      <th>1556</th>\n",
              "      <td>60</td>\n",
              "      <td>2020-10-08</td>\n",
              "      <td>0</td>\n",
              "      <td>Absent</td>\n",
              "    </tr>\n",
              "    <tr>\n",
              "      <th>1557</th>\n",
              "      <td>60</td>\n",
              "      <td>2020-10-09</td>\n",
              "      <td>0</td>\n",
              "      <td>Absent</td>\n",
              "    </tr>\n",
              "    <tr>\n",
              "      <th>1558</th>\n",
              "      <td>60</td>\n",
              "      <td>2020-10-12</td>\n",
              "      <td>0</td>\n",
              "      <td>Absent</td>\n",
              "    </tr>\n",
              "    <tr>\n",
              "      <th>1559</th>\n",
              "      <td>60</td>\n",
              "      <td>2020-10-13</td>\n",
              "      <td>0</td>\n",
              "      <td>Absent</td>\n",
              "    </tr>\n",
              "  </tbody>\n",
              "</table>\n",
              "<p>1560 rows × 4 columns</p>\n",
              "</div>"
            ],
            "text/plain": [
              "      학생ID        수업날짜  Zoom접속시간  present\n",
              "0        1  2020-09-08        75  Present\n",
              "1        1  2020-09-09         0   Absent\n",
              "2        1  2020-09-10         0   Absent\n",
              "3        1  2020-09-11         0   Absent\n",
              "4        1  2020-09-14         0   Absent\n",
              "...    ...         ...       ...      ...\n",
              "1555    60  2020-10-07         0   Absent\n",
              "1556    60  2020-10-08         0   Absent\n",
              "1557    60  2020-10-09         0   Absent\n",
              "1558    60  2020-10-12         0   Absent\n",
              "1559    60  2020-10-13         0   Absent\n",
              "\n",
              "[1560 rows x 4 columns]"
            ]
          },
          "metadata": {},
          "execution_count": 400
        }
      ]
    },
    {
      "cell_type": "markdown",
      "metadata": {
        "id": "dvNkjjpalrNG"
      },
      "source": [
        "# **(c) 각 날짜 별로 출석(Present)한 학생과 \"Late/Left early\"인 학생의 비율을 계산하시오.**"
      ]
    },
    {
      "cell_type": "code",
      "metadata": {
        "colab": {
          "base_uri": "https://localhost:8080/",
          "height": 675
        },
        "id": "yTEjzMrjxIQY",
        "outputId": "6f4f99bc-833b-49ac-e0c4-ab20c9d41b48"
      },
      "source": [
        "#### Present, Late/Left early를 count하고 학생수로 비율 계산\n",
        "df = Attendance\n",
        "df.rename(columns={'학생ID':'ID','수업날짜' :'date','Zoom접속시간':'ontime'}, inplace=True)\n",
        "df = df[~df['present'].str.contains('Absent', na=False)]\n",
        "df = df.groupby(['date', 'present']).count()\n",
        "df = df.drop(['ontime'], axis=1)\n",
        "\n",
        "ID_count = 60  #학생수\n",
        "df['%'] = round(((df5['ID']/ID_count) *100), 1)\n",
        "df"
      ],
      "execution_count": 402,
      "outputs": [
        {
          "output_type": "execute_result",
          "data": {
            "text/html": [
              "<div>\n",
              "<style scoped>\n",
              "    .dataframe tbody tr th:only-of-type {\n",
              "        vertical-align: middle;\n",
              "    }\n",
              "\n",
              "    .dataframe tbody tr th {\n",
              "        vertical-align: top;\n",
              "    }\n",
              "\n",
              "    .dataframe thead th {\n",
              "        text-align: right;\n",
              "    }\n",
              "</style>\n",
              "<table border=\"1\" class=\"dataframe\">\n",
              "  <thead>\n",
              "    <tr style=\"text-align: right;\">\n",
              "      <th></th>\n",
              "      <th></th>\n",
              "      <th>ID</th>\n",
              "      <th>%</th>\n",
              "    </tr>\n",
              "    <tr>\n",
              "      <th>date</th>\n",
              "      <th>present</th>\n",
              "      <th></th>\n",
              "      <th></th>\n",
              "    </tr>\n",
              "  </thead>\n",
              "  <tbody>\n",
              "    <tr>\n",
              "      <th rowspan=\"2\" valign=\"top\">2020-09-08</th>\n",
              "      <th>Late/Left early</th>\n",
              "      <td>2</td>\n",
              "      <td>3.3</td>\n",
              "    </tr>\n",
              "    <tr>\n",
              "      <th>Present</th>\n",
              "      <td>35</td>\n",
              "      <td>58.3</td>\n",
              "    </tr>\n",
              "    <tr>\n",
              "      <th rowspan=\"2\" valign=\"top\">2020-09-10</th>\n",
              "      <th>Late/Left early</th>\n",
              "      <td>1</td>\n",
              "      <td>1.7</td>\n",
              "    </tr>\n",
              "    <tr>\n",
              "      <th>Present</th>\n",
              "      <td>36</td>\n",
              "      <td>60.0</td>\n",
              "    </tr>\n",
              "    <tr>\n",
              "      <th rowspan=\"2\" valign=\"top\">2020-09-15</th>\n",
              "      <th>Late/Left early</th>\n",
              "      <td>2</td>\n",
              "      <td>3.3</td>\n",
              "    </tr>\n",
              "    <tr>\n",
              "      <th>Present</th>\n",
              "      <td>35</td>\n",
              "      <td>58.3</td>\n",
              "    </tr>\n",
              "    <tr>\n",
              "      <th rowspan=\"2\" valign=\"top\">2020-09-17</th>\n",
              "      <th>Late/Left early</th>\n",
              "      <td>1</td>\n",
              "      <td>1.7</td>\n",
              "    </tr>\n",
              "    <tr>\n",
              "      <th>Present</th>\n",
              "      <td>36</td>\n",
              "      <td>60.0</td>\n",
              "    </tr>\n",
              "    <tr>\n",
              "      <th rowspan=\"2\" valign=\"top\">2020-09-22</th>\n",
              "      <th>Late/Left early</th>\n",
              "      <td>2</td>\n",
              "      <td>3.3</td>\n",
              "    </tr>\n",
              "    <tr>\n",
              "      <th>Present</th>\n",
              "      <td>37</td>\n",
              "      <td>61.7</td>\n",
              "    </tr>\n",
              "    <tr>\n",
              "      <th rowspan=\"2\" valign=\"top\">2020-09-24</th>\n",
              "      <th>Late/Left early</th>\n",
              "      <td>1</td>\n",
              "      <td>1.7</td>\n",
              "    </tr>\n",
              "    <tr>\n",
              "      <th>Present</th>\n",
              "      <td>38</td>\n",
              "      <td>63.3</td>\n",
              "    </tr>\n",
              "    <tr>\n",
              "      <th rowspan=\"2\" valign=\"top\">2020-09-29</th>\n",
              "      <th>Late/Left early</th>\n",
              "      <td>2</td>\n",
              "      <td>3.3</td>\n",
              "    </tr>\n",
              "    <tr>\n",
              "      <th>Present</th>\n",
              "      <td>30</td>\n",
              "      <td>50.0</td>\n",
              "    </tr>\n",
              "    <tr>\n",
              "      <th rowspan=\"2\" valign=\"top\">2020-10-06</th>\n",
              "      <th>Late/Left early</th>\n",
              "      <td>2</td>\n",
              "      <td>3.3</td>\n",
              "    </tr>\n",
              "    <tr>\n",
              "      <th>Present</th>\n",
              "      <td>41</td>\n",
              "      <td>68.3</td>\n",
              "    </tr>\n",
              "    <tr>\n",
              "      <th rowspan=\"2\" valign=\"top\">2020-10-08</th>\n",
              "      <th>Late/Left early</th>\n",
              "      <td>4</td>\n",
              "      <td>6.7</td>\n",
              "    </tr>\n",
              "    <tr>\n",
              "      <th>Present</th>\n",
              "      <td>35</td>\n",
              "      <td>58.3</td>\n",
              "    </tr>\n",
              "    <tr>\n",
              "      <th>2020-10-13</th>\n",
              "      <th>Present</th>\n",
              "      <td>39</td>\n",
              "      <td>65.0</td>\n",
              "    </tr>\n",
              "  </tbody>\n",
              "</table>\n",
              "</div>"
            ],
            "text/plain": [
              "                            ID     %\n",
              "date       present                  \n",
              "2020-09-08 Late/Left early   2   3.3\n",
              "           Present          35  58.3\n",
              "2020-09-10 Late/Left early   1   1.7\n",
              "           Present          36  60.0\n",
              "2020-09-15 Late/Left early   2   3.3\n",
              "           Present          35  58.3\n",
              "2020-09-17 Late/Left early   1   1.7\n",
              "           Present          36  60.0\n",
              "2020-09-22 Late/Left early   2   3.3\n",
              "           Present          37  61.7\n",
              "2020-09-24 Late/Left early   1   1.7\n",
              "           Present          38  63.3\n",
              "2020-09-29 Late/Left early   2   3.3\n",
              "           Present          30  50.0\n",
              "2020-10-06 Late/Left early   2   3.3\n",
              "           Present          41  68.3\n",
              "2020-10-08 Late/Left early   4   6.7\n",
              "           Present          35  58.3\n",
              "2020-10-13 Present          39  65.0"
            ]
          },
          "metadata": {},
          "execution_count": 402
        }
      ]
    },
    {
      "cell_type": "markdown",
      "metadata": {
        "id": "lddOtDXtFo8-"
      },
      "source": [
        "# **(d) 각 학생마다 결석한 횟수를 계산하고 countplot을 그리시오.**"
      ]
    },
    {
      "cell_type": "code",
      "metadata": {
        "colab": {
          "base_uri": "https://localhost:8080/",
          "height": 435
        },
        "id": "4qwTr6yqFNzB",
        "outputId": "fb76c471-bb76-42fd-f9b1-d454cc6035b2"
      },
      "source": [
        "#### Present, Late/Left early 삭제하고 countplot 그리기\n",
        "\n",
        "df1=Attendance\n",
        "del1 = df1[df1['present'] == 'Present'].index\n",
        "del2 = df1[df1['present'] == 'Late/Left early'].index\n",
        "df1 = df1.drop(del1)\n",
        "df1 = df1.drop(del2)\n",
        "df_count = df1.drop(['ontime'], axis=1)\n",
        "sns.countplot(data=df_count,x='ID',hue='present')\n",
        "plt.rcParams[\"figure.figsize\"] = (18,10)           #그래프 사이즈 조정\n",
        "plt.show()"
      ],
      "execution_count": 406,
      "outputs": [
        {
          "output_type": "display_data",
          "data": {
            "image/png": "[encoded data removed]",
            "text/plain": [
              "<Figure size 1296x720 with 1 Axes>"
            ]
          },
          "metadata": {
            "needs_background": "light"
          }
        }
      ]
    },
    {
      "cell_type": "markdown",
      "metadata": {
        "id": "WiGIaeHoBZXF"
      },
      "source": [
        "# **(e) \"Attendance\" 데이터에 대한 EDA를 진행하시오.**"
      ]
    },
    {
      "cell_type": "code",
      "metadata": {
        "colab": {
          "base_uri": "https://localhost:8080/",
          "height": 205
        },
        "id": "Cwi0pQ26gSo1",
        "outputId": "f880667c-d0ec-4d33-8111-f695898cd752"
      },
      "source": [
        "Attendance.head()"
      ],
      "execution_count": 410,
      "outputs": [
        {
          "output_type": "execute_result",
          "data": {
            "text/html": [
              "<div>\n",
              "<style scoped>\n",
              "    .dataframe tbody tr th:only-of-type {\n",
              "        vertical-align: middle;\n",
              "    }\n",
              "\n",
              "    .dataframe tbody tr th {\n",
              "        vertical-align: top;\n",
              "    }\n",
              "\n",
              "    .dataframe thead th {\n",
              "        text-align: right;\n",
              "    }\n",
              "</style>\n",
              "<table border=\"1\" class=\"dataframe\">\n",
              "  <thead>\n",
              "    <tr style=\"text-align: right;\">\n",
              "      <th></th>\n",
              "      <th>ID</th>\n",
              "      <th>date</th>\n",
              "      <th>ontime</th>\n",
              "      <th>present</th>\n",
              "    </tr>\n",
              "  </thead>\n",
              "  <tbody>\n",
              "    <tr>\n",
              "      <th>0</th>\n",
              "      <td>1</td>\n",
              "      <td>2020-09-08</td>\n",
              "      <td>75</td>\n",
              "      <td>Present</td>\n",
              "    </tr>\n",
              "    <tr>\n",
              "      <th>1</th>\n",
              "      <td>1</td>\n",
              "      <td>2020-09-09</td>\n",
              "      <td>0</td>\n",
              "      <td>Absent</td>\n",
              "    </tr>\n",
              "    <tr>\n",
              "      <th>2</th>\n",
              "      <td>1</td>\n",
              "      <td>2020-09-10</td>\n",
              "      <td>0</td>\n",
              "      <td>Absent</td>\n",
              "    </tr>\n",
              "    <tr>\n",
              "      <th>3</th>\n",
              "      <td>1</td>\n",
              "      <td>2020-09-11</td>\n",
              "      <td>0</td>\n",
              "      <td>Absent</td>\n",
              "    </tr>\n",
              "    <tr>\n",
              "      <th>4</th>\n",
              "      <td>1</td>\n",
              "      <td>2020-09-14</td>\n",
              "      <td>0</td>\n",
              "      <td>Absent</td>\n",
              "    </tr>\n",
              "  </tbody>\n",
              "</table>\n",
              "</div>"
            ],
            "text/plain": [
              "   ID        date  ontime  present\n",
              "0   1  2020-09-08      75  Present\n",
              "1   1  2020-09-09       0   Absent\n",
              "2   1  2020-09-10       0   Absent\n",
              "3   1  2020-09-11       0   Absent\n",
              "4   1  2020-09-14       0   Absent"
            ]
          },
          "metadata": {},
          "execution_count": 410
        }
      ]
    },
    {
      "cell_type": "code",
      "metadata": {
        "colab": {
          "base_uri": "https://localhost:8080/",
          "height": 205
        },
        "id": "aiWQqVwfgSlU",
        "outputId": "dabc69d4-4b0e-48eb-96b1-9cf0ae165b7d"
      },
      "source": [
        "Attendance.tail()"
      ],
      "execution_count": 409,
      "outputs": [
        {
          "output_type": "execute_result",
          "data": {
            "text/html": [
              "<div>\n",
              "<style scoped>\n",
              "    .dataframe tbody tr th:only-of-type {\n",
              "        vertical-align: middle;\n",
              "    }\n",
              "\n",
              "    .dataframe tbody tr th {\n",
              "        vertical-align: top;\n",
              "    }\n",
              "\n",
              "    .dataframe thead th {\n",
              "        text-align: right;\n",
              "    }\n",
              "</style>\n",
              "<table border=\"1\" class=\"dataframe\">\n",
              "  <thead>\n",
              "    <tr style=\"text-align: right;\">\n",
              "      <th></th>\n",
              "      <th>ID</th>\n",
              "      <th>date</th>\n",
              "      <th>ontime</th>\n",
              "      <th>present</th>\n",
              "    </tr>\n",
              "  </thead>\n",
              "  <tbody>\n",
              "    <tr>\n",
              "      <th>1555</th>\n",
              "      <td>60</td>\n",
              "      <td>2020-10-07</td>\n",
              "      <td>0</td>\n",
              "      <td>Absent</td>\n",
              "    </tr>\n",
              "    <tr>\n",
              "      <th>1556</th>\n",
              "      <td>60</td>\n",
              "      <td>2020-10-08</td>\n",
              "      <td>0</td>\n",
              "      <td>Absent</td>\n",
              "    </tr>\n",
              "    <tr>\n",
              "      <th>1557</th>\n",
              "      <td>60</td>\n",
              "      <td>2020-10-09</td>\n",
              "      <td>0</td>\n",
              "      <td>Absent</td>\n",
              "    </tr>\n",
              "    <tr>\n",
              "      <th>1558</th>\n",
              "      <td>60</td>\n",
              "      <td>2020-10-12</td>\n",
              "      <td>0</td>\n",
              "      <td>Absent</td>\n",
              "    </tr>\n",
              "    <tr>\n",
              "      <th>1559</th>\n",
              "      <td>60</td>\n",
              "      <td>2020-10-13</td>\n",
              "      <td>0</td>\n",
              "      <td>Absent</td>\n",
              "    </tr>\n",
              "  </tbody>\n",
              "</table>\n",
              "</div>"
            ],
            "text/plain": [
              "      ID        date  ontime present\n",
              "1555  60  2020-10-07       0  Absent\n",
              "1556  60  2020-10-08       0  Absent\n",
              "1557  60  2020-10-09       0  Absent\n",
              "1558  60  2020-10-12       0  Absent\n",
              "1559  60  2020-10-13       0  Absent"
            ]
          },
          "metadata": {},
          "execution_count": 409
        }
      ]
    },
    {
      "cell_type": "code",
      "metadata": {
        "colab": {
          "base_uri": "https://localhost:8080/"
        },
        "id": "KGhA1lITgShn",
        "outputId": "c3593bfc-fc85-4eb5-ff88-fb5445a60b23"
      },
      "source": [
        "len(Attendance)"
      ],
      "execution_count": 411,
      "outputs": [
        {
          "output_type": "execute_result",
          "data": {
            "text/plain": [
              "1560"
            ]
          },
          "metadata": {},
          "execution_count": 411
        }
      ]
    },
    {
      "cell_type": "code",
      "metadata": {
        "colab": {
          "base_uri": "https://localhost:8080/"
        },
        "id": "VBK18SN_gSdN",
        "outputId": "ecd24dee-d0ca-44d9-ed44-f00fbbf174c6"
      },
      "source": [
        "Attendance.shape"
      ],
      "execution_count": 412,
      "outputs": [
        {
          "output_type": "execute_result",
          "data": {
            "text/plain": [
              "(1560, 4)"
            ]
          },
          "metadata": {},
          "execution_count": 412
        }
      ]
    },
    {
      "cell_type": "code",
      "metadata": {
        "colab": {
          "base_uri": "https://localhost:8080/"
        },
        "id": "pDte9muYgSZC",
        "outputId": "1caf9719-a784-4d0f-b76a-d4d2270da8f4"
      },
      "source": [
        "Attendance.columns"
      ],
      "execution_count": 413,
      "outputs": [
        {
          "output_type": "execute_result",
          "data": {
            "text/plain": [
              "Index(['ID', 'date', 'ontime', 'present'], dtype='object')"
            ]
          },
          "metadata": {},
          "execution_count": 413
        }
      ]
    },
    {
      "cell_type": "code",
      "metadata": {
        "colab": {
          "base_uri": "https://localhost:8080/",
          "height": 299
        },
        "id": "-aV9J66UgSWD",
        "outputId": "9cf91ac0-9b56-4fab-d161-1ce5371a82c3"
      },
      "source": [
        "Attendance.describe()"
      ],
      "execution_count": 414,
      "outputs": [
        {
          "output_type": "execute_result",
          "data": {
            "text/html": [
              "<div>\n",
              "<style scoped>\n",
              "    .dataframe tbody tr th:only-of-type {\n",
              "        vertical-align: middle;\n",
              "    }\n",
              "\n",
              "    .dataframe tbody tr th {\n",
              "        vertical-align: top;\n",
              "    }\n",
              "\n",
              "    .dataframe thead th {\n",
              "        text-align: right;\n",
              "    }\n",
              "</style>\n",
              "<table border=\"1\" class=\"dataframe\">\n",
              "  <thead>\n",
              "    <tr style=\"text-align: right;\">\n",
              "      <th></th>\n",
              "      <th>ID</th>\n",
              "      <th>ontime</th>\n",
              "    </tr>\n",
              "  </thead>\n",
              "  <tbody>\n",
              "    <tr>\n",
              "      <th>count</th>\n",
              "      <td>1560.000000</td>\n",
              "      <td>1560.000000</td>\n",
              "    </tr>\n",
              "    <tr>\n",
              "      <th>mean</th>\n",
              "      <td>30.500000</td>\n",
              "      <td>17.607692</td>\n",
              "    </tr>\n",
              "    <tr>\n",
              "      <th>std</th>\n",
              "      <td>17.323656</td>\n",
              "      <td>31.451847</td>\n",
              "    </tr>\n",
              "    <tr>\n",
              "      <th>min</th>\n",
              "      <td>1.000000</td>\n",
              "      <td>0.000000</td>\n",
              "    </tr>\n",
              "    <tr>\n",
              "      <th>25%</th>\n",
              "      <td>15.750000</td>\n",
              "      <td>0.000000</td>\n",
              "    </tr>\n",
              "    <tr>\n",
              "      <th>50%</th>\n",
              "      <td>30.500000</td>\n",
              "      <td>0.000000</td>\n",
              "    </tr>\n",
              "    <tr>\n",
              "      <th>75%</th>\n",
              "      <td>45.250000</td>\n",
              "      <td>0.000000</td>\n",
              "    </tr>\n",
              "    <tr>\n",
              "      <th>max</th>\n",
              "      <td>60.000000</td>\n",
              "      <td>75.000000</td>\n",
              "    </tr>\n",
              "  </tbody>\n",
              "</table>\n",
              "</div>"
            ],
            "text/plain": [
              "                ID       ontime\n",
              "count  1560.000000  1560.000000\n",
              "mean     30.500000    17.607692\n",
              "std      17.323656    31.451847\n",
              "min       1.000000     0.000000\n",
              "25%      15.750000     0.000000\n",
              "50%      30.500000     0.000000\n",
              "75%      45.250000     0.000000\n",
              "max      60.000000    75.000000"
            ]
          },
          "metadata": {},
          "execution_count": 414
        }
      ]
    },
    {
      "cell_type": "code",
      "metadata": {
        "colab": {
          "base_uri": "https://localhost:8080/"
        },
        "id": "x3Dp5oJ_gSMI",
        "outputId": "3a177c61-dabb-46a4-f07e-1e98326acac1"
      },
      "source": [
        "np.sqrt(np.sum((Attendance['ontime']-np.mean(Attendance['ontime']))**2)/(len(Attendance['ontime'])))"
      ],
      "execution_count": 415,
      "outputs": [
        {
          "output_type": "execute_result",
          "data": {
            "text/plain": [
              "31.441764521302197"
            ]
          },
          "metadata": {},
          "execution_count": 415
        }
      ]
    },
    {
      "cell_type": "code",
      "metadata": {
        "colab": {
          "base_uri": "https://localhost:8080/"
        },
        "id": "cv7P_8xiC2Rs",
        "outputId": "fc37e14f-0158-455c-8e6c-e28f842f2724"
      },
      "source": [
        "Attendance.isnull().sum()"
      ],
      "execution_count": 416,
      "outputs": [
        {
          "output_type": "execute_result",
          "data": {
            "text/plain": [
              "ID         0\n",
              "date       0\n",
              "ontime     0\n",
              "present    0\n",
              "dtype: int64"
            ]
          },
          "metadata": {},
          "execution_count": 416
        }
      ]
    },
    {
      "cell_type": "code",
      "metadata": {
        "id": "G7Jhj3l8DUjq"
      },
      "source": [
        "Attendance=Attendance.dropna(axis=0)"
      ],
      "execution_count": 417,
      "outputs": []
    },
    {
      "cell_type": "code",
      "metadata": {
        "colab": {
          "base_uri": "https://localhost:8080/"
        },
        "id": "PzOGTlN3C2Os",
        "outputId": "ccaa5cec-c997-437d-8f28-1ea57c3de44f"
      },
      "source": [
        "Attendance.shape"
      ],
      "execution_count": 418,
      "outputs": [
        {
          "output_type": "execute_result",
          "data": {
            "text/plain": [
              "(1560, 4)"
            ]
          },
          "metadata": {},
          "execution_count": 418
        }
      ]
    },
    {
      "cell_type": "code",
      "metadata": {
        "colab": {
          "base_uri": "https://localhost:8080/",
          "height": 205
        },
        "id": "MH8w_962C2LF",
        "outputId": "6ea7f9c4-dcc2-421b-d3eb-31167b90c3e8"
      },
      "source": [
        "Attendance[[\"date\",\"ontime\"]].head()"
      ],
      "execution_count": 420,
      "outputs": [
        {
          "output_type": "execute_result",
          "data": {
            "text/html": [
              "<div>\n",
              "<style scoped>\n",
              "    .dataframe tbody tr th:only-of-type {\n",
              "        vertical-align: middle;\n",
              "    }\n",
              "\n",
              "    .dataframe tbody tr th {\n",
              "        vertical-align: top;\n",
              "    }\n",
              "\n",
              "    .dataframe thead th {\n",
              "        text-align: right;\n",
              "    }\n",
              "</style>\n",
              "<table border=\"1\" class=\"dataframe\">\n",
              "  <thead>\n",
              "    <tr style=\"text-align: right;\">\n",
              "      <th></th>\n",
              "      <th>date</th>\n",
              "      <th>ontime</th>\n",
              "    </tr>\n",
              "  </thead>\n",
              "  <tbody>\n",
              "    <tr>\n",
              "      <th>0</th>\n",
              "      <td>2020-09-08</td>\n",
              "      <td>75</td>\n",
              "    </tr>\n",
              "    <tr>\n",
              "      <th>1</th>\n",
              "      <td>2020-09-09</td>\n",
              "      <td>0</td>\n",
              "    </tr>\n",
              "    <tr>\n",
              "      <th>2</th>\n",
              "      <td>2020-09-10</td>\n",
              "      <td>0</td>\n",
              "    </tr>\n",
              "    <tr>\n",
              "      <th>3</th>\n",
              "      <td>2020-09-11</td>\n",
              "      <td>0</td>\n",
              "    </tr>\n",
              "    <tr>\n",
              "      <th>4</th>\n",
              "      <td>2020-09-14</td>\n",
              "      <td>0</td>\n",
              "    </tr>\n",
              "  </tbody>\n",
              "</table>\n",
              "</div>"
            ],
            "text/plain": [
              "         date  ontime\n",
              "0  2020-09-08      75\n",
              "1  2020-09-09       0\n",
              "2  2020-09-10       0\n",
              "3  2020-09-11       0\n",
              "4  2020-09-14       0"
            ]
          },
          "metadata": {},
          "execution_count": 420
        }
      ]
    },
    {
      "cell_type": "code",
      "metadata": {
        "colab": {
          "base_uri": "https://localhost:8080/",
          "height": 422
        },
        "id": "PqqNTuFvC2Ie",
        "outputId": "77b43cae-62d0-4c4f-f8f7-c39d873800b6"
      },
      "source": [
        "Attendance[[\"date\",\"ontime\"]]"
      ],
      "execution_count": 421,
      "outputs": [
        {
          "output_type": "execute_result",
          "data": {
            "text/html": [
              "<div>\n",
              "<style scoped>\n",
              "    .dataframe tbody tr th:only-of-type {\n",
              "        vertical-align: middle;\n",
              "    }\n",
              "\n",
              "    .dataframe tbody tr th {\n",
              "        vertical-align: top;\n",
              "    }\n",
              "\n",
              "    .dataframe thead th {\n",
              "        text-align: right;\n",
              "    }\n",
              "</style>\n",
              "<table border=\"1\" class=\"dataframe\">\n",
              "  <thead>\n",
              "    <tr style=\"text-align: right;\">\n",
              "      <th></th>\n",
              "      <th>date</th>\n",
              "      <th>ontime</th>\n",
              "    </tr>\n",
              "  </thead>\n",
              "  <tbody>\n",
              "    <tr>\n",
              "      <th>0</th>\n",
              "      <td>2020-09-08</td>\n",
              "      <td>75</td>\n",
              "    </tr>\n",
              "    <tr>\n",
              "      <th>1</th>\n",
              "      <td>2020-09-09</td>\n",
              "      <td>0</td>\n",
              "    </tr>\n",
              "    <tr>\n",
              "      <th>2</th>\n",
              "      <td>2020-09-10</td>\n",
              "      <td>0</td>\n",
              "    </tr>\n",
              "    <tr>\n",
              "      <th>3</th>\n",
              "      <td>2020-09-11</td>\n",
              "      <td>0</td>\n",
              "    </tr>\n",
              "    <tr>\n",
              "      <th>4</th>\n",
              "      <td>2020-09-14</td>\n",
              "      <td>0</td>\n",
              "    </tr>\n",
              "    <tr>\n",
              "      <th>...</th>\n",
              "      <td>...</td>\n",
              "      <td>...</td>\n",
              "    </tr>\n",
              "    <tr>\n",
              "      <th>1555</th>\n",
              "      <td>2020-10-07</td>\n",
              "      <td>0</td>\n",
              "    </tr>\n",
              "    <tr>\n",
              "      <th>1556</th>\n",
              "      <td>2020-10-08</td>\n",
              "      <td>0</td>\n",
              "    </tr>\n",
              "    <tr>\n",
              "      <th>1557</th>\n",
              "      <td>2020-10-09</td>\n",
              "      <td>0</td>\n",
              "    </tr>\n",
              "    <tr>\n",
              "      <th>1558</th>\n",
              "      <td>2020-10-12</td>\n",
              "      <td>0</td>\n",
              "    </tr>\n",
              "    <tr>\n",
              "      <th>1559</th>\n",
              "      <td>2020-10-13</td>\n",
              "      <td>0</td>\n",
              "    </tr>\n",
              "  </tbody>\n",
              "</table>\n",
              "<p>1560 rows × 2 columns</p>\n",
              "</div>"
            ],
            "text/plain": [
              "            date  ontime\n",
              "0     2020-09-08      75\n",
              "1     2020-09-09       0\n",
              "2     2020-09-10       0\n",
              "3     2020-09-11       0\n",
              "4     2020-09-14       0\n",
              "...          ...     ...\n",
              "1555  2020-10-07       0\n",
              "1556  2020-10-08       0\n",
              "1557  2020-10-09       0\n",
              "1558  2020-10-12       0\n",
              "1559  2020-10-13       0\n",
              "\n",
              "[1560 rows x 2 columns]"
            ]
          },
          "metadata": {},
          "execution_count": 421
        }
      ]
    },
    {
      "cell_type": "code",
      "metadata": {
        "colab": {
          "base_uri": "https://localhost:8080/"
        },
        "id": "VlBY7wILEKS1",
        "outputId": "9968504f-1dec-41aa-b7b7-93ea7dcd8ef4"
      },
      "source": [
        "Attendance[\"ontime\"].iloc[3]"
      ],
      "execution_count": 422,
      "outputs": [
        {
          "output_type": "execute_result",
          "data": {
            "text/plain": [
              "0"
            ]
          },
          "metadata": {},
          "execution_count": 422
        }
      ]
    },
    {
      "cell_type": "code",
      "metadata": {
        "id": "1CHrMJRJEgPn"
      },
      "source": [
        "new=Attendance.drop([\"date\"],1) # 1 means drop the colum, 0 means drop the row"
      ],
      "execution_count": 423,
      "outputs": []
    },
    {
      "cell_type": "code",
      "metadata": {
        "colab": {
          "base_uri": "https://localhost:8080/"
        },
        "id": "g6lIUkiAEufY",
        "outputId": "f3e33943-f4ba-4b28-8682-b094b1b3162e"
      },
      "source": [
        "new.shape"
      ],
      "execution_count": 426,
      "outputs": [
        {
          "output_type": "execute_result",
          "data": {
            "text/plain": [
              "(1560, 3)"
            ]
          },
          "metadata": {},
          "execution_count": 426
        }
      ]
    },
    {
      "cell_type": "code",
      "metadata": {
        "id": "QnbEhkRiEyOz"
      },
      "source": [
        "newdata=pd.get_dummies(data=Attendance, columns=['date','ontime'])"
      ],
      "execution_count": 427,
      "outputs": []
    },
    {
      "cell_type": "code",
      "metadata": {
        "colab": {
          "base_uri": "https://localhost:8080/",
          "height": 243
        },
        "id": "jULXGifaFEj2",
        "outputId": "43e2dc1a-9e0c-4adf-b10b-e7ceb5ef93cc"
      },
      "source": [
        "newdata.head()"
      ],
      "execution_count": 428,
      "outputs": [
        {
          "output_type": "execute_result",
          "data": {
            "text/html": [
              "<div>\n",
              "<style scoped>\n",
              "    .dataframe tbody tr th:only-of-type {\n",
              "        vertical-align: middle;\n",
              "    }\n",
              "\n",
              "    .dataframe tbody tr th {\n",
              "        vertical-align: top;\n",
              "    }\n",
              "\n",
              "    .dataframe thead th {\n",
              "        text-align: right;\n",
              "    }\n",
              "</style>\n",
              "<table border=\"1\" class=\"dataframe\">\n",
              "  <thead>\n",
              "    <tr style=\"text-align: right;\">\n",
              "      <th></th>\n",
              "      <th>ID</th>\n",
              "      <th>present</th>\n",
              "      <th>date_2020-09-08</th>\n",
              "      <th>date_2020-09-09</th>\n",
              "      <th>date_2020-09-10</th>\n",
              "      <th>date_2020-09-11</th>\n",
              "      <th>date_2020-09-14</th>\n",
              "      <th>date_2020-09-15</th>\n",
              "      <th>date_2020-09-16</th>\n",
              "      <th>date_2020-09-17</th>\n",
              "      <th>date_2020-09-18</th>\n",
              "      <th>date_2020-09-21</th>\n",
              "      <th>date_2020-09-22</th>\n",
              "      <th>date_2020-09-23</th>\n",
              "      <th>date_2020-09-24</th>\n",
              "      <th>date_2020-09-25</th>\n",
              "      <th>date_2020-09-28</th>\n",
              "      <th>date_2020-09-29</th>\n",
              "      <th>date_2020-09-30</th>\n",
              "      <th>date_2020-10-01</th>\n",
              "      <th>date_2020-10-02</th>\n",
              "      <th>date_2020-10-05</th>\n",
              "      <th>date_2020-10-06</th>\n",
              "      <th>date_2020-10-07</th>\n",
              "      <th>date_2020-10-08</th>\n",
              "      <th>date_2020-10-09</th>\n",
              "      <th>date_2020-10-12</th>\n",
              "      <th>date_2020-10-13</th>\n",
              "      <th>ontime_0</th>\n",
              "      <th>ontime_3</th>\n",
              "      <th>ontime_7</th>\n",
              "      <th>ontime_11</th>\n",
              "      <th>ontime_13</th>\n",
              "      <th>ontime_15</th>\n",
              "      <th>ontime_18</th>\n",
              "      <th>ontime_20</th>\n",
              "      <th>ontime_24</th>\n",
              "      <th>ontime_42</th>\n",
              "      <th>ontime_44</th>\n",
              "      <th>ontime_45</th>\n",
              "      <th>ontime_49</th>\n",
              "      <th>ontime_50</th>\n",
              "      <th>ontime_51</th>\n",
              "      <th>ontime_52</th>\n",
              "      <th>ontime_58</th>\n",
              "      <th>ontime_62</th>\n",
              "      <th>ontime_63</th>\n",
              "      <th>ontime_64</th>\n",
              "      <th>ontime_66</th>\n",
              "      <th>ontime_67</th>\n",
              "      <th>ontime_68</th>\n",
              "      <th>ontime_69</th>\n",
              "      <th>ontime_70</th>\n",
              "      <th>ontime_71</th>\n",
              "      <th>ontime_72</th>\n",
              "      <th>ontime_73</th>\n",
              "      <th>ontime_74</th>\n",
              "      <th>ontime_75</th>\n",
              "    </tr>\n",
              "  </thead>\n",
              "  <tbody>\n",
              "    <tr>\n",
              "      <th>0</th>\n",
              "      <td>1</td>\n",
              "      <td>Present</td>\n",
              "      <td>1</td>\n",
              "      <td>0</td>\n",
              "      <td>0</td>\n",
              "      <td>0</td>\n",
              "      <td>0</td>\n",
              "      <td>0</td>\n",
              "      <td>0</td>\n",
              "      <td>0</td>\n",
              "      <td>0</td>\n",
              "      <td>0</td>\n",
              "      <td>0</td>\n",
              "      <td>0</td>\n",
              "      <td>0</td>\n",
              "      <td>0</td>\n",
              "      <td>0</td>\n",
              "      <td>0</td>\n",
              "      <td>0</td>\n",
              "      <td>0</td>\n",
              "      <td>0</td>\n",
              "      <td>0</td>\n",
              "      <td>0</td>\n",
              "      <td>0</td>\n",
              "      <td>0</td>\n",
              "      <td>0</td>\n",
              "      <td>0</td>\n",
              "      <td>0</td>\n",
              "      <td>0</td>\n",
              "      <td>0</td>\n",
              "      <td>0</td>\n",
              "      <td>0</td>\n",
              "      <td>0</td>\n",
              "      <td>0</td>\n",
              "      <td>0</td>\n",
              "      <td>0</td>\n",
              "      <td>0</td>\n",
              "      <td>0</td>\n",
              "      <td>0</td>\n",
              "      <td>0</td>\n",
              "      <td>0</td>\n",
              "      <td>0</td>\n",
              "      <td>0</td>\n",
              "      <td>0</td>\n",
              "      <td>0</td>\n",
              "      <td>0</td>\n",
              "      <td>0</td>\n",
              "      <td>0</td>\n",
              "      <td>0</td>\n",
              "      <td>0</td>\n",
              "      <td>0</td>\n",
              "      <td>0</td>\n",
              "      <td>0</td>\n",
              "      <td>0</td>\n",
              "      <td>0</td>\n",
              "      <td>0</td>\n",
              "      <td>0</td>\n",
              "      <td>1</td>\n",
              "    </tr>\n",
              "    <tr>\n",
              "      <th>1</th>\n",
              "      <td>1</td>\n",
              "      <td>Absent</td>\n",
              "      <td>0</td>\n",
              "      <td>1</td>\n",
              "      <td>0</td>\n",
              "      <td>0</td>\n",
              "      <td>0</td>\n",
              "      <td>0</td>\n",
              "      <td>0</td>\n",
              "      <td>0</td>\n",
              "      <td>0</td>\n",
              "      <td>0</td>\n",
              "      <td>0</td>\n",
              "      <td>0</td>\n",
              "      <td>0</td>\n",
              "      <td>0</td>\n",
              "      <td>0</td>\n",
              "      <td>0</td>\n",
              "      <td>0</td>\n",
              "      <td>0</td>\n",
              "      <td>0</td>\n",
              "      <td>0</td>\n",
              "      <td>0</td>\n",
              "      <td>0</td>\n",
              "      <td>0</td>\n",
              "      <td>0</td>\n",
              "      <td>0</td>\n",
              "      <td>0</td>\n",
              "      <td>1</td>\n",
              "      <td>0</td>\n",
              "      <td>0</td>\n",
              "      <td>0</td>\n",
              "      <td>0</td>\n",
              "      <td>0</td>\n",
              "      <td>0</td>\n",
              "      <td>0</td>\n",
              "      <td>0</td>\n",
              "      <td>0</td>\n",
              "      <td>0</td>\n",
              "      <td>0</td>\n",
              "      <td>0</td>\n",
              "      <td>0</td>\n",
              "      <td>0</td>\n",
              "      <td>0</td>\n",
              "      <td>0</td>\n",
              "      <td>0</td>\n",
              "      <td>0</td>\n",
              "      <td>0</td>\n",
              "      <td>0</td>\n",
              "      <td>0</td>\n",
              "      <td>0</td>\n",
              "      <td>0</td>\n",
              "      <td>0</td>\n",
              "      <td>0</td>\n",
              "      <td>0</td>\n",
              "      <td>0</td>\n",
              "      <td>0</td>\n",
              "      <td>0</td>\n",
              "    </tr>\n",
              "    <tr>\n",
              "      <th>2</th>\n",
              "      <td>1</td>\n",
              "      <td>Absent</td>\n",
              "      <td>0</td>\n",
              "      <td>0</td>\n",
              "      <td>1</td>\n",
              "      <td>0</td>\n",
              "      <td>0</td>\n",
              "      <td>0</td>\n",
              "      <td>0</td>\n",
              "      <td>0</td>\n",
              "      <td>0</td>\n",
              "      <td>0</td>\n",
              "      <td>0</td>\n",
              "      <td>0</td>\n",
              "      <td>0</td>\n",
              "      <td>0</td>\n",
              "      <td>0</td>\n",
              "      <td>0</td>\n",
              "      <td>0</td>\n",
              "      <td>0</td>\n",
              "      <td>0</td>\n",
              "      <td>0</td>\n",
              "      <td>0</td>\n",
              "      <td>0</td>\n",
              "      <td>0</td>\n",
              "      <td>0</td>\n",
              "      <td>0</td>\n",
              "      <td>0</td>\n",
              "      <td>1</td>\n",
              "      <td>0</td>\n",
              "      <td>0</td>\n",
              "      <td>0</td>\n",
              "      <td>0</td>\n",
              "      <td>0</td>\n",
              "      <td>0</td>\n",
              "      <td>0</td>\n",
              "      <td>0</td>\n",
              "      <td>0</td>\n",
              "      <td>0</td>\n",
              "      <td>0</td>\n",
              "      <td>0</td>\n",
              "      <td>0</td>\n",
              "      <td>0</td>\n",
              "      <td>0</td>\n",
              "      <td>0</td>\n",
              "      <td>0</td>\n",
              "      <td>0</td>\n",
              "      <td>0</td>\n",
              "      <td>0</td>\n",
              "      <td>0</td>\n",
              "      <td>0</td>\n",
              "      <td>0</td>\n",
              "      <td>0</td>\n",
              "      <td>0</td>\n",
              "      <td>0</td>\n",
              "      <td>0</td>\n",
              "      <td>0</td>\n",
              "      <td>0</td>\n",
              "    </tr>\n",
              "    <tr>\n",
              "      <th>3</th>\n",
              "      <td>1</td>\n",
              "      <td>Absent</td>\n",
              "      <td>0</td>\n",
              "      <td>0</td>\n",
              "      <td>0</td>\n",
              "      <td>1</td>\n",
              "      <td>0</td>\n",
              "      <td>0</td>\n",
              "      <td>0</td>\n",
              "      <td>0</td>\n",
              "      <td>0</td>\n",
              "      <td>0</td>\n",
              "      <td>0</td>\n",
              "      <td>0</td>\n",
              "      <td>0</td>\n",
              "      <td>0</td>\n",
              "      <td>0</td>\n",
              "      <td>0</td>\n",
              "      <td>0</td>\n",
              "      <td>0</td>\n",
              "      <td>0</td>\n",
              "      <td>0</td>\n",
              "      <td>0</td>\n",
              "      <td>0</td>\n",
              "      <td>0</td>\n",
              "      <td>0</td>\n",
              "      <td>0</td>\n",
              "      <td>0</td>\n",
              "      <td>1</td>\n",
              "      <td>0</td>\n",
              "      <td>0</td>\n",
              "      <td>0</td>\n",
              "      <td>0</td>\n",
              "      <td>0</td>\n",
              "      <td>0</td>\n",
              "      <td>0</td>\n",
              "      <td>0</td>\n",
              "      <td>0</td>\n",
              "      <td>0</td>\n",
              "      <td>0</td>\n",
              "      <td>0</td>\n",
              "      <td>0</td>\n",
              "      <td>0</td>\n",
              "      <td>0</td>\n",
              "      <td>0</td>\n",
              "      <td>0</td>\n",
              "      <td>0</td>\n",
              "      <td>0</td>\n",
              "      <td>0</td>\n",
              "      <td>0</td>\n",
              "      <td>0</td>\n",
              "      <td>0</td>\n",
              "      <td>0</td>\n",
              "      <td>0</td>\n",
              "      <td>0</td>\n",
              "      <td>0</td>\n",
              "      <td>0</td>\n",
              "      <td>0</td>\n",
              "    </tr>\n",
              "    <tr>\n",
              "      <th>4</th>\n",
              "      <td>1</td>\n",
              "      <td>Absent</td>\n",
              "      <td>0</td>\n",
              "      <td>0</td>\n",
              "      <td>0</td>\n",
              "      <td>0</td>\n",
              "      <td>1</td>\n",
              "      <td>0</td>\n",
              "      <td>0</td>\n",
              "      <td>0</td>\n",
              "      <td>0</td>\n",
              "      <td>0</td>\n",
              "      <td>0</td>\n",
              "      <td>0</td>\n",
              "      <td>0</td>\n",
              "      <td>0</td>\n",
              "      <td>0</td>\n",
              "      <td>0</td>\n",
              "      <td>0</td>\n",
              "      <td>0</td>\n",
              "      <td>0</td>\n",
              "      <td>0</td>\n",
              "      <td>0</td>\n",
              "      <td>0</td>\n",
              "      <td>0</td>\n",
              "      <td>0</td>\n",
              "      <td>0</td>\n",
              "      <td>0</td>\n",
              "      <td>1</td>\n",
              "      <td>0</td>\n",
              "      <td>0</td>\n",
              "      <td>0</td>\n",
              "      <td>0</td>\n",
              "      <td>0</td>\n",
              "      <td>0</td>\n",
              "      <td>0</td>\n",
              "      <td>0</td>\n",
              "      <td>0</td>\n",
              "      <td>0</td>\n",
              "      <td>0</td>\n",
              "      <td>0</td>\n",
              "      <td>0</td>\n",
              "      <td>0</td>\n",
              "      <td>0</td>\n",
              "      <td>0</td>\n",
              "      <td>0</td>\n",
              "      <td>0</td>\n",
              "      <td>0</td>\n",
              "      <td>0</td>\n",
              "      <td>0</td>\n",
              "      <td>0</td>\n",
              "      <td>0</td>\n",
              "      <td>0</td>\n",
              "      <td>0</td>\n",
              "      <td>0</td>\n",
              "      <td>0</td>\n",
              "      <td>0</td>\n",
              "      <td>0</td>\n",
              "    </tr>\n",
              "  </tbody>\n",
              "</table>\n",
              "</div>"
            ],
            "text/plain": [
              "   ID  present  date_2020-09-08  ...  ontime_73  ontime_74  ontime_75\n",
              "0   1  Present                1  ...          0          0          1\n",
              "1   1   Absent                0  ...          0          0          0\n",
              "2   1   Absent                0  ...          0          0          0\n",
              "3   1   Absent                0  ...          0          0          0\n",
              "4   1   Absent                0  ...          0          0          0\n",
              "\n",
              "[5 rows x 58 columns]"
            ]
          },
          "metadata": {},
          "execution_count": 428
        }
      ]
    },
    {
      "cell_type": "code",
      "metadata": {
        "colab": {
          "base_uri": "https://localhost:8080/"
        },
        "id": "EqzaOltTFKB-",
        "outputId": "ef69c613-a118-4944-81bd-15876caa5995"
      },
      "source": [
        "Attendance['ontime'].mean()"
      ],
      "execution_count": 429,
      "outputs": [
        {
          "output_type": "execute_result",
          "data": {
            "text/plain": [
              "17.607692307692307"
            ]
          },
          "metadata": {},
          "execution_count": 429
        }
      ]
    },
    {
      "cell_type": "code",
      "metadata": {
        "colab": {
          "base_uri": "https://localhost:8080/",
          "height": 487
        },
        "id": "Vdl4_RXcF78R",
        "outputId": "54f5ce2f-d077-4f96-9fa6-3fce6ded5cc5"
      },
      "source": [
        "sns.distplot(Attendance['ontime'])\n",
        "plt.show()"
      ],
      "execution_count": 431,
      "outputs": [
        {
          "output_type": "stream",
          "name": "stderr",
          "text": [
            "/usr/local/lib/python3.7/dist-packages/seaborn/distributions.py:2557: FutureWarning: `distplot` is a deprecated function and will be removed in a future version. Please adapt your code to use either `displot` (a figure-level function with similar flexibility) or `histplot` (an axes-level function for histograms).\n",
            "  warnings.warn(msg, FutureWarning)\n"
          ]
        },
        {
          "output_type": "display_data",
          "data": {
            "image/png": "[encoded data removed]",
            "text/plain": [
              "<Figure size 1296x720 with 1 Axes>"
            ]
          },
          "metadata": {
            "needs_background": "light"
          }
        }
      ]
    },
    {
      "cell_type": "code",
      "metadata": {
        "colab": {
          "base_uri": "https://localhost:8080/",
          "height": 447
        },
        "id": "8LeI_XvZGGtf",
        "outputId": "78462642-d13e-4f0c-9a13-98b54a37fea4"
      },
      "source": [
        "sns.boxplot(x=Attendance['ontime'],width=0.1)\n",
        "plt.show()"
      ],
      "execution_count": 436,
      "outputs": [
        {
          "output_type": "display_data",
          "data": {
            "image/png": "[encoded data removed]",
            "text/plain": [
              "<Figure size 1296x720 with 1 Axes>"
            ]
          },
          "metadata": {
            "needs_background": "light"
          }
        }
      ]
    },
    {
      "cell_type": "code",
      "metadata": {
        "colab": {
          "base_uri": "https://localhost:8080/",
          "height": 415
        },
        "id": "44okR_8TGnmF",
        "outputId": "6f21a335-6a5a-4089-9fd8-54d4cf8f3bb8"
      },
      "source": [
        "sns.boxplot(y=Attendance['ontime'],width=0.1)\n",
        "plt.show()"
      ],
      "execution_count": 437,
      "outputs": [
        {
          "output_type": "display_data",
          "data": {
            "image/png": "[encoded data removed]",
            "text/plain": [
              "<Figure size 1296x720 with 1 Axes>"
            ]
          },
          "metadata": {
            "needs_background": "light"
          }
        }
      ]
    },
    {
      "cell_type": "code",
      "metadata": {
        "colab": {
          "base_uri": "https://localhost:8080/",
          "height": 435
        },
        "id": "lve0pXwVGu8y",
        "outputId": "187f0282-0cc5-4a00-c169-e6a1c721e59d"
      },
      "source": [
        "sns.barplot(x='ID',y='ontime',data=Attendance)\n",
        "plt.show()"
      ],
      "execution_count": 438,
      "outputs": [
        {
          "output_type": "display_data",
          "data": {
            "image/png": "[encoded data removed]",
            "text/plain": [
              "<Figure size 1296x720 with 1 Axes>"
            ]
          },
          "metadata": {
            "needs_background": "light"
          }
        }
      ]
    },
    {
      "cell_type": "code",
      "metadata": {
        "colab": {
          "base_uri": "https://localhost:8080/",
          "height": 112
        },
        "id": "D7Y91c68HY7q",
        "outputId": "837d4be2-af35-4936-9ab9-d07335d18789"
      },
      "source": [
        "Attendance[['ID','date','ontime',]].corr()"
      ],
      "execution_count": 441,
      "outputs": [
        {
          "output_type": "execute_result",
          "data": {
            "text/html": [
              "<div>\n",
              "<style scoped>\n",
              "    .dataframe tbody tr th:only-of-type {\n",
              "        vertical-align: middle;\n",
              "    }\n",
              "\n",
              "    .dataframe tbody tr th {\n",
              "        vertical-align: top;\n",
              "    }\n",
              "\n",
              "    .dataframe thead th {\n",
              "        text-align: right;\n",
              "    }\n",
              "</style>\n",
              "<table border=\"1\" class=\"dataframe\">\n",
              "  <thead>\n",
              "    <tr style=\"text-align: right;\">\n",
              "      <th></th>\n",
              "      <th>ID</th>\n",
              "      <th>ontime</th>\n",
              "    </tr>\n",
              "  </thead>\n",
              "  <tbody>\n",
              "    <tr>\n",
              "      <th>ID</th>\n",
              "      <td>1.000000</td>\n",
              "      <td>-0.067684</td>\n",
              "    </tr>\n",
              "    <tr>\n",
              "      <th>ontime</th>\n",
              "      <td>-0.067684</td>\n",
              "      <td>1.000000</td>\n",
              "    </tr>\n",
              "  </tbody>\n",
              "</table>\n",
              "</div>"
            ],
            "text/plain": [
              "              ID    ontime\n",
              "ID      1.000000 -0.067684\n",
              "ontime -0.067684  1.000000"
            ]
          },
          "metadata": {},
          "execution_count": 441
        }
      ]
    }
  ]
}